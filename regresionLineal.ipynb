{
 "cells": [
  {
   "cell_type": "markdown",
   "id": "e58f01aa",
   "metadata": {},
   "source": [
    "## Actividad Final\n",
    "### Regresión Lineal Simple"
   ]
  },
  {
   "cell_type": "markdown",
   "id": "00a8e2cb",
   "metadata": {},
   "source": [
    "### Problema\n",
    "Construir un modelo que haga predicciones de ventas basado en la invesión financiera de diferentes plataformas de publicidad."
   ]
  },
  {
   "cell_type": "markdown",
   "id": "91e16177",
   "metadata": {},
   "source": [
    "### Datos\n",
    "Utiliza el conjunto de datos CSV del archivo advertising.csv y analiza la relacion que tienen las diferentes plataformas respecto a las ventas."
   ]
  },
  {
   "cell_type": "markdown",
   "id": "968795fa",
   "metadata": {},
   "source": [
    "### Leyendo y entendiendo los datos"
   ]
  },
  {
   "cell_type": "code",
   "execution_count": 12,
   "id": "02dfe1f6",
   "metadata": {},
   "outputs": [],
   "source": [
    "# Importa pandas, numpy \n",
    "\n",
    "import pandas as pd\n",
    "import numpy as np\n",
    "# Importa scikilearn y métricas\n",
    "import seaborn as sns\n",
    "\n",
    "# Importa API's para visualización de datos\n",
    "\n",
    "import matplotlib.pyplot as plt"
   ]
  },
  {
   "cell_type": "code",
   "execution_count": 5,
   "id": "87ff98e1",
   "metadata": {},
   "outputs": [],
   "source": [
    "# Carga el archivo CSV a una dataframe (DF) y visualiza los primeros\n",
    "df = pd.read_csv('advertising.csv')\n"
   ]
  },
  {
   "cell_type": "code",
   "execution_count": 2,
   "id": "54f57be9",
   "metadata": {},
   "outputs": [],
   "source": [
    "# Visualiza la dimensión del DF\n",
    "\n",
    "print(df.head())\n",
    "print ()\n",
    "print (f'Dimensiones del dataset: {df.shape}')\n",
    "print (df.info())"
   ]
  },
  {
   "cell_type": "code",
   "execution_count": 3,
   "id": "2e7008e0",
   "metadata": {},
   "outputs": [],
   "source": [
    "# Visualiza la información del DF\n",
    "print (df.info())\n"
   ]
  },
  {
   "cell_type": "code",
   "execution_count": 4,
   "id": "e070c182",
   "metadata": {},
   "outputs": [],
   "source": [
    "# Visualiza las estadísticas generales del DF\n",
    "print(df.describe())\n"
   ]
  },
  {
   "cell_type": "markdown",
   "id": "82a64498",
   "metadata": {},
   "source": [
    "### Limpiando los datos"
   ]
  },
  {
   "cell_type": "code",
   "execution_count": 5,
   "id": "dea94653",
   "metadata": {},
   "outputs": [],
   "source": [
    "# Busca si existen valores nulos en el DF. Utiliza le método isnull() con la función de agregación sum() \n",
    "# para saber la cantidad de nulos por cada variable del DF\n",
    "print(df.isnull().sum())\n",
    "print ('filas duplicadas:',df.duplicated().sum())\n"
   ]
  },
  {
   "cell_type": "markdown",
   "id": "db8ea8f6",
   "metadata": {},
   "source": [
    "#### Contesta en esta misma celda: ¿Cuál es tu opinión de acuerdo a los resultados anteriores, para realizar la limpieza de datos?"
   ]
  },
  {
   "cell_type": "code",
   "execution_count": 6,
   "id": "a15cff3e",
   "metadata": {},
   "outputs": [],
   "source": [
    "# Identifica si existen valor atípicos (outliers) en las 3 variables independientes que se estan estudiando. Utilza seaborn\n",
    "# para realizar las gráficas de caja\n",
    "# Configurar el estilo de las gráficas\n",
    "sns.set(style=\"whitegrid\")\n",
    "\n",
    "# Crear figuras para los boxplots\n",
    "fig, axes = plt.subplots(1, 3, figsize=(18, 5))\n",
    "\n",
    "# Gráfico de caja para TV\n",
    "sns.boxplot(y=df['TV'], ax=axes[0], color='skyblue')\n",
    "axes[0].set_title('Distribución del Gasto en TV')\n",
    "\n",
    "# Gráfico de caja para Radio\n",
    "sns.boxplot(y=df['Radio'], ax=axes[1], color='salmon')\n",
    "axes[1].set_title('Distribución del Gasto en Radio')\n",
    "\n",
    "# Gráfico de caja para Newspaper\n",
    "sns.boxplot(y=df['Newspaper'], ax=axes[2], color='lightgreen')\n",
    "axes[2].set_title('Distribución del Gasto en Newspaper')\n",
    "\n",
    "# Mostrar los gráficos\n",
    "plt.show()\n"
   ]
  },
  {
   "cell_type": "markdown",
   "id": "e6389b4b",
   "metadata": {},
   "source": [
    "#### Contesta en esta misma celda: ¿Existen valores atípicos que realmente afecten el desempeño del entrenamiento? ¿Cómo procederías de acuerdo a tu respuesta anterior?"
   ]
  },
  {
   "cell_type": "code",
   "execution_count": 7,
   "id": "39748056",
   "metadata": {},
   "outputs": [],
   "source": [
    "# Crear un mapa de calor (heatmap) para visualizar la correlación entre las variables independietes y dependiente\n",
    "# Utiliza seaborn para graficar\n",
    "plt.figure(figsize=(10, 8))  # Tamaño ajustable\n",
    "sns.heatmap(correlation_matrix, annot=True, cmap='coolwarm', fmt='.2f', cbar=True)\n",
    "plt.title('Mapa de Calor de Correlación entre Variables')\n",
    "plt.show()\n"
   ]
  },
  {
   "cell_type": "markdown",
   "id": "0e34bdd3",
   "metadata": {},
   "source": [
    "#### Contesta en esta misma celda: ¿Cuál es la variable que tiene mayor relación con las ventas?. "
   ]
  },
  {
   "cell_type": "markdown",
   "id": "ddf269ac",
   "metadata": {},
   "source": [
    "## Constuyendo el modelo"
   ]
  },
  {
   "cell_type": "markdown",
   "id": "1681e392",
   "metadata": {},
   "source": [
    "### Importa las librerias sklearn para el split de los datos y el modelo de regesión lineal"
   ]
  },
  {
   "cell_type": "code",
   "execution_count": 1,
   "id": "449a7a3f",
   "metadata": {},
   "outputs": [],
   "source": [
    "# Importa sklearn\n",
    "from sklearn.model_selection import train_test_split\n",
    "from sklearn.linear_model import LinearRegression"
   ]
  },
  {
   "cell_type": "code",
   "execution_count": 6,
   "id": "63bd4d27",
   "metadata": {},
   "outputs": [],
   "source": [
    "# Crea los conjutnos X y Y para le modelo de regresión lineal simple. Te recomiendo que uses la siguiente nomenclatura \n",
    "# Y = df['Sales']\n",
    "\n",
    "Y = df['Sales']\n",
    "X = df[['TV']]"
   ]
  },
  {
   "cell_type": "code",
   "execution_count": 9,
   "id": "7784f78d",
   "metadata": {},
   "outputs": [],
   "source": [
    "# Haz el reshape correspondiente al conjutno X antes de dividir los datos\n",
    "X = np.array(X).reshape(-1, 1)\n",
    "#dividir los datos en entrenamiento y prueba, considera el 20% de los datos para testing\n",
    "X_train, X_test, Y_train, Y_test = train_test_split(X, Y, test_size=0.2, random_state=42)"
   ]
  },
  {
   "cell_type": "code",
   "execution_count": 11,
   "id": "fce67afc",
   "metadata": {},
   "outputs": [
    {
     "name": "stdout",
     "output_type": "stream",
     "text": [
      "Pendiente: 0.0554829439314632\n",
      "Bias: 7.007108428241848\n",
      "Coeficientes: [0.05548294]\n"
     ]
    }
   ],
   "source": [
    "# Instancia el modelo LienarRegression()\n",
    "model = LinearRegression()\n",
    "# Entrnea el modelo con el método fit y los conjutnos de entrenamiento (x_train, y_train)\n",
    "model.fit(X_train, Y_train)\n",
    "# Imprime la pendiente, bias y coeficientes resultados del entrenamiento\n",
    "print(\"Pendiente:\", model.coef_[0])\n",
    "print(\"Bias:\", model.intercept_)\n",
    "print(\"Coeficientes:\", model.coef_)"
   ]
  },
  {
   "cell_type": "markdown",
   "id": "6a0ca06a",
   "metadata": {},
   "source": [
    "### Visualiza el desempeño del entrenamiento "
   ]
  },
  {
   "cell_type": "code",
   "execution_count": 13,
   "id": "bd55c26b",
   "metadata": {},
   "outputs": [
    {
     "data": {
      "image/png": "[encoded data removed]",
      "text/plain": [
       "<Figure size 640x480 with 1 Axes>"
      ]
     },
     "metadata": {},
     "output_type": "display_data"
    }
   ],
   "source": [
    "# Redimensiona el conjunto X de entrenamiento\n",
    "\n",
    "\n",
    "# Realiza la prediccion sobre el conjunto X de entrenamiento\n",
    "Y_train_pred = model.predict(X_train)\n",
    "# Con seabor haz una grafica de dispersión para comparar los conjuntos\n",
    "sns.scatterplot(x=X_train.flatten(), y=Y_train, label=\"Datos Reales\")\n",
    "sns.lineplot(x=X_train.flatten(), y=Y_train_pred, color='red', label=\"Predicción del Modelo\")\n",
    "plt.xlabel(\"Gasto en TV\")\n",
    "plt.ylabel(\"Ventas\")\n",
    "plt.title(\"Regresión Lineal: Gasto en TV vs Ventas\")\n",
    "plt.legend()\n",
    "plt.show()"
   ]
  },
  {
   "cell_type": "markdown",
   "id": "ff88f03f",
   "metadata": {},
   "source": [
    "## Evaluación del modelo"
   ]
  },
  {
   "cell_type": "code",
   "execution_count": 14,
   "id": "734f43c5",
   "metadata": {},
   "outputs": [],
   "source": [
    "# Importa las métricas mean_squared_error y r2_score\n",
    "\n",
    "from sklearn.metrics import mean_squared_error, r2_score"
   ]
  },
  {
   "cell_type": "code",
   "execution_count": 15,
   "id": "e6236366",
   "metadata": {},
   "outputs": [
    {
     "name": "stdout",
     "output_type": "stream",
     "text": [
      "Error cuadrático medio: 6.101072906773963\n",
      "R2 Score: 0.802561303423698\n"
     ]
    }
   ],
   "source": [
    "# Haz la prediccion utilizando el conjunto de prueba\n",
    "Y_test_pred = model.predict(X_test)\n",
    "#calculo el error caudratico medio  y R2\n",
    "mse = mean_squared_error(Y_test, Y_test_pred)\n",
    "r2 = r2_score(Y_test, Y_test_pred)\n",
    "print(\"Error cuadrático medio:\", mse)\n",
    "print(\"R2 Score:\", r2)"
   ]
  },
  {
   "cell_type": "code",
   "execution_count": null,
   "id": "3b79ccb2",
   "metadata": {},
   "outputs": [],
   "source": []
  }
 ],
 "metadata": {
  "kernelspec": {
   "display_name": "Python 3 (ipykernel)",
   "language": "python",
   "name": "python3"
  },
  "language_info": {
   "codemirror_mode": {
    "name": "ipython",
    "version": 3
   },
   "file_extension": ".py",
   "mimetype": "text/x-python",
   "name": "python",
   "nbconvert_exporter": "python",
   "pygments_lexer": "ipython3",
   "version": "3.13.2"
  }
 },
 "nbformat": 4,
 "nbformat_minor": 5
}
